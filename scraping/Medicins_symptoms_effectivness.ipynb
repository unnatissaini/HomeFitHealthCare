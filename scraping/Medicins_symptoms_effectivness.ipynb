{
 "cells": [
  {
   "cell_type": "code",
   "execution_count": 1,
   "metadata": {},
   "outputs": [],
   "source": [
    "from selenium import webdriver\n",
    "from selenium.webdriver.common.action_chains import ActionChains\n",
    "from selenium.webdriver.common.keys import Keys\n",
    "from selenium.webdriver.support.ui import WebDriverWait\n",
    "from selenium.webdriver.common.by import By\n",
    "from selenium.webdriver.support import expected_conditions as EC\n",
    "from selenium.webdriver.chrome.options import Options\n",
    "import pandas as pd\n",
    "from tqdm import tqdm_notebook as tqdm\n",
    "from time import sleep\n",
    "\n",
    "from urllib3.exceptions import ProtocolError"
   ]
  },
  {
   "cell_type": "code",
   "execution_count": 2,
   "metadata": {},
   "outputs": [
    {
     "data": {
      "text/plain": [
       "Index(['condition', 'drug', 'easeofuse', 'effectiveness', 'reviews',\n",
       "       'satisfaction'],\n",
       "      dtype='object')"
      ]
     },
     "execution_count": 2,
     "metadata": {},
     "output_type": "execute_result"
    }
   ],
   "source": [
    "df = pd.read_csv(\"wdrd.csv\")\n",
    "df.drop(columns=['Age', 'Date', 'DrugId', 'Sex', 'Sides', 'UsefulCount'], inplace=True)\n",
    "df.columns = [d.lower() for d in df.columns]\n",
    "df.columns"
   ]
  },
  {
   "cell_type": "code",
   "execution_count": 3,
   "metadata": {},
   "outputs": [],
   "source": [
    "#df.head()"
   ]
  },
  {
   "cell_type": "code",
   "execution_count": 4,
   "metadata": {},
   "outputs": [
    {
     "data": {
      "text/plain": [
       "Index(['disease', 'symptoms', 'medicine', 'part_of_body'], dtype='object')"
      ]
     },
     "execution_count": 4,
     "metadata": {},
     "output_type": "execute_result"
    }
   ],
   "source": [
    "with open('disease_symp_med_part.txt', 'r') as f:\n",
    "    data = eval(f.read())\n",
    "df2 = pd.DataFrame(data, columns=['disease', 'symptoms', 'medicine', 'part_of_body'])\n",
    "df2['disease'] = [d[0] for d in df2['disease']]\n",
    "df2.columns"
   ]
  },
  {
   "cell_type": "code",
   "execution_count": 5,
   "metadata": {},
   "outputs": [],
   "source": [
    "s = set([_.lower() for _ in df['drug']])"
   ]
  },
  {
   "cell_type": "code",
   "execution_count": 6,
   "metadata": {},
   "outputs": [],
   "source": [
    "s2 = set()\n",
    "for _ in df2['medicine']:\n",
    "    [s2.add(x.lower()) for x in _]"
   ]
  },
  {
   "cell_type": "code",
   "execution_count": 7,
   "metadata": {},
   "outputs": [
    {
     "data": {
      "text/plain": [
       "(376, 7093, 577)"
      ]
     },
     "execution_count": 7,
     "metadata": {},
     "output_type": "execute_result"
    }
   ],
   "source": [
    "len(s2.difference(s)), len(s), len(s2)"
   ]
  },
  {
   "cell_type": "code",
   "execution_count": 8,
   "metadata": {},
   "outputs": [],
   "source": [
    "drugs = sorted(list(s2.difference(s)))"
   ]
  },
  {
   "cell_type": "code",
   "execution_count": 12,
   "metadata": {},
   "outputs": [
    {
     "data": {
      "text/plain": [
       "376"
      ]
     },
     "execution_count": 12,
     "metadata": {},
     "output_type": "execute_result"
    }
   ],
   "source": [
    "len(drugs)"
   ]
  },
  {
   "cell_type": "code",
   "execution_count": 10,
   "metadata": {},
   "outputs": [],
   "source": [
    "from threading import Thread\n",
    "from time import sleep"
   ]
  },
  {
   "cell_type": "code",
   "execution_count": null,
   "metadata": {},
   "outputs": [],
   "source": []
  },
  {
   "cell_type": "code",
   "execution_count": 13,
   "metadata": {},
   "outputs": [],
   "source": [
    "I = 231\n",
    "d = {'drug':[], 'Effectiveness':[], 'Ease of Use':[], 'Satisfaction':[]}"
   ]
  },
  {
   "cell_type": "code",
   "execution_count": null,
   "metadata": {
    "scrolled": true
   },
   "outputs": [],
   "source": [
    "chrome_options = Options()\n",
    "chrome_options.add_argument(\"--incognito\")\n",
    "#chrome_options.add_argument(\"--headless\")\n",
    "chrome_options.add_argument(\"--start-maximized\")\n",
    "browser = webdriver.Chrome(\"./chromedriver.exe\", options=chrome_options)\n",
    "file = \"med_symp_eff.csv\"\n",
    "# with open(file, \"w\") as f:\n",
    "#     f.write(','.join(['drug', 'effectiveness', 'ease of use', 'satisfaction']))\n",
    "#     f.write(\"\\n\")\n",
    "i = I\n",
    "while(i<len(drugs)):\n",
    "    try:\n",
    "        drug = drugs[i]\n",
    "        i += 1\n",
    "        main_page = \"https://www.webmd.com/drugs/2/search?type=drugs&query={}\".format(drug)\n",
    "        browser.get(main_page)\n",
    "        \n",
    "        try:\n",
    "            browser.get(browser.find_element_by_class_name(\"exact-match\").find_element_by_xpath(\"li/a\").get_attribute(\"href\"))\n",
    "        except:\n",
    "            pass\n",
    "            #browser.find_element_by_tag_name(\"html\").send_keys(Keys.ESCAPE)\n",
    "            #browser.get(browser.find_element_by_class_name(\"exact-match\").find_element_by_xpath(\"li/a\").get_attribute(\"href\"))\n",
    "        try:\n",
    "            #browser.find_element_by_class_name(\"drug-review-lowest\").find_element_by_class_name(\"drug-review\").click()\n",
    "            #browser.find_element_by_class_name(\"drug-review\").click()\n",
    "            browser.get(browser.find_element_by_class_name(\"drug-review\").get_attribute(\"href\"))\n",
    "        except:\n",
    "            browser.find_element_by_tag_name(\"html\").send_keys(Keys.ESCAPE)\n",
    "            #browser.find_element_by_class_name(\"drug-review-lowest\").find_element_by_class_name(\"drug-review\").click()\n",
    "            #browser.find_element_by_class_name(\"drug-review\").click()\n",
    "            #browser.get(browser.find_element_by_class_name(\"drug-review\").get_attribute(\"href\"))\n",
    "            continue\n",
    "            \n",
    "        try:\n",
    "            ratings = browser.find_element_by_id(\"ctnStars\").find_elements_by_tag_name(\"div\")\n",
    "        except:\n",
    "            I = i\n",
    "            print(\"--->\", drug)\n",
    "            continue\n",
    "            \n",
    "#         ratings = ratings.find_elements_by_tag_name(\"div\")\n",
    "        \n",
    "        if(len(ratings)<3):\n",
    "            print(\"some error\")\n",
    "        else:\n",
    "            m = []\n",
    "            d['drug'].append(drug)\n",
    "            for rating in ratings:\n",
    "                r = rating.find_elements_by_tag_name(\"p\")\n",
    "                d[r[0].text].append(r[2].text[1:-1])\n",
    "                m.append(r[2].text[1:-1])\n",
    "            with open(file, \"a\") as f:\n",
    "                f.write(\"{},{},{},{}\\n\".format(drug, m[0], m[1], m[2]))\n",
    "        I = i\n",
    "        if(i%3==0):\n",
    "            browser.close()\n",
    "            browser = webdriver.Chrome(\"./chromedriver.exe\", options=chrome_options)\n",
    "        print(i, drug)\n",
    "    except ConnectionRefusedError as e:\n",
    "        browser.close()\n",
    "        print(\"->\", drug)\n",
    "        browser = webdriver.Chrome(\"./chromedriver.exe\", options=chrome_options)\n",
    "        continue\n",
    "    except Exception as e:\n",
    "        print(i, drug, e)\n",
    "        i = I\n",
    "        browser = webdriver.Chrome(\"./chromedriver.exe\", options=chrome_options)"
   ]
  },
  {
   "cell_type": "code",
   "execution_count": null,
   "metadata": {},
   "outputs": [],
   "source": [
    "len(pd.DataFrame(d))"
   ]
  },
  {
   "cell_type": "code",
   "execution_count": 17,
   "metadata": {},
   "outputs": [
    {
     "name": "stdout",
     "output_type": "stream",
     "text": [
      "86\n",
      "86\n",
      "86\n",
      "86\n"
     ]
    }
   ],
   "source": []
  },
  {
   "cell_type": "code",
   "execution_count": null,
   "metadata": {},
   "outputs": [],
   "source": [
    "threads = []\n",
    "x = len(drugs)/5\n",
    "for i in range(5):\n",
    "    s, e = int(i*x), int((i+1)*x)\n",
    "    print(s, e)\n",
    "    \n",
    "    t = Thread(target=get_details, args=(drugs[s:e],))\n",
    "    t.start()\n",
    "    threads.append(t)\n",
    "#d = {}\n",
    "for t in threads:\n",
    "    d_ = t.join()\n",
    "    for k in d.keys():\n",
    "        d[k].extend(d_[k])\n",
    "        \n",
    "print(len(d['Satisfaction']))"
   ]
  },
  {
   "cell_type": "code",
   "execution_count": 28,
   "metadata": {},
   "outputs": [],
   "source": [
    "intersection = s2.intersection(s)\n",
    "bubble_data = []\n",
    "\n",
    "for i,row in df.iterrows():\n",
    "    if row['drug'] in intersection:\n",
    "        bubble_data.append([row['drug'],row['effectiveness'], row['easeofuse'],  row['satisfaction']])\n",
    "        "
   ]
  },
  {
   "cell_type": "code",
   "execution_count": null,
   "metadata": {},
   "outputs": [],
   "source": [
    "append = df[['drug','effectiveness','easeofuse','satisfaction']].groupby(by='drug').mean()\n",
    "append.reset_index(inplace=True)\n",
    "print(append)"
   ]
  },
  {
   "cell_type": "code",
   "execution_count": 47,
   "metadata": {},
   "outputs": [],
   "source": [
    "final = pd.read_csv(\"med_symp_eff.csv\")\n",
    "#append = pd.DataFrame(bubble_data, columns=['drug','effectiveness','easeofuse','satisfaction'])\n",
    "final = pd.concat([final, append])\n",
    "final.reset_index(drop=True, inplace=True)"
   ]
  },
  {
   "cell_type": "code",
   "execution_count": 48,
   "metadata": {},
   "outputs": [],
   "source": [
    "indexs = []\n",
    "for i,row in final.iterrows():\n",
    "    if(row['drug'] in s2):\n",
    "        indexs.append(i)\n"
   ]
  },
  {
   "cell_type": "code",
   "execution_count": 50,
   "metadata": {},
   "outputs": [],
   "source": [
    "final.loc[indexs].to_csv(\"med_symp_eff_final.csv\")"
   ]
  },
  {
   "cell_type": "code",
   "execution_count": null,
   "metadata": {},
   "outputs": [],
   "source": []
  }
 ],
 "metadata": {
  "kernelspec": {
   "display_name": "Python 3",
   "language": "python",
   "name": "python3"
  },
  "language_info": {
   "codemirror_mode": {
    "name": "ipython",
    "version": 3
   },
   "file_extension": ".py",
   "mimetype": "text/x-python",
   "name": "python",
   "nbconvert_exporter": "python",
   "pygments_lexer": "ipython3",
   "version": "3.6.4"
  }
 },
 "nbformat": 4,
 "nbformat_minor": 2
}
